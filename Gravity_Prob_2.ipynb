{
 "cells": [
  {
   "cell_type": "markdown",
   "metadata": {},
   "source": [
    "# Two-body Gravitational Problem using Lagrange's equation\n",
    "\n",
    "Defines a LagrangianTwoBody class that is used to generate basic orbit plots from solving Lagrange's equations. Based of the Langraian_pendulum notebook and LagrangianPendulum class both by Dick Furhstahl (furnstahl.1@osu.edu)."
   ]
  },
  {
   "cell_type": "markdown",
   "metadata": {},
   "source": [
    "## Euler-Lagrange equation\n",
    "\n",
    "For a two-body gravitational problem, the Lagrangian with generalized coordinates $x_1$, $y_1$, $x_2$ and $y_2$ is\n",
    "\n",
    "$\\begin{align}\n",
    "  \\mathcal{L} = \\frac12 m_1 \\dot x_1^2 + \\frac12 m_1 \\dot y_1^2 + \\frac12 m_2 \\dot x_2^2 + \\frac12 m_2 \\dot y_2^2 + \\frac{Gm_1m_2}{\\sqrt{(x_1-x_2)^2 + (y_1-y_2)^2}}\n",
    "\\end{align}$\n",
    "\n",
    "The Euler-Lagrange equations are:\n",
    "\n",
    "$\\begin{align}\n",
    " \\frac{d}{dt}\\frac{\\partial\\mathcal{L}}{\\partial \\dot x_1} = \\frac{\\partial\\mathcal L}{\\partial x_1}\n",
    " \\quad\\Longrightarrow\\quad\n",
    " \\ddot x_1= \\frac{m_2G(x_2-x_1)}{((x_1-x_2)^2+(y_1-y_2)^2)^\\frac32}\n",
    "  \\;\n",
    "\\end{align}$\n",
    "\n",
    "$\\begin{align}\n",
    " \\frac{d}{dt}\\frac{\\partial\\mathcal{L}}{\\partial \\dot y_1} = \\frac{\\partial\\mathcal L}{\\partial y_1}\n",
    " \\quad\\Longrightarrow\\quad\n",
    " \\ddot y_1= \\frac{m_2G(y_2-y_1)}{((x_1-x_2)^2+(y_1-y_2)^2)^\\frac32}\n",
    "  \\;\n",
    "\\end{align}$\n",
    "\n",
    "$\\begin{align}\n",
    " \\frac{d}{dt}\\frac{\\partial\\mathcal{L}}{\\partial \\dot x_2} = \\frac{\\partial\\mathcal L}{\\partial x_2}\n",
    " \\quad\\Longrightarrow\\quad\n",
    " \\ddot x_2= \\frac{m_1G(x_1-x_2)}{((x_1-x_2)^2+(y_1-y_2)^2)^\\frac32}\n",
    "  \\;\n",
    "\\end{align}$\n",
    "\n",
    "$\\begin{align}\n",
    " \\frac{d}{dt}\\frac{\\partial\\mathcal{L}}{\\partial \\dot y_2} = \\frac{\\partial\\mathcal L}{\\partial y_2}\n",
    " \\quad\\Longrightarrow\\quad\n",
    " \\ddot y_2= \\frac{m_1G(y_1-y_2)}{((x_1-x_2)^2+(y_1-y_2)^2)^\\frac32}\n",
    "  \\;\n",
    "\\end{align}$"
   ]
  },
  {
   "cell_type": "code",
   "execution_count": 1,
   "metadata": {},
   "outputs": [],
   "source": [
    "%matplotlib inline"
   ]
  },
  {
   "cell_type": "code",
   "execution_count": 2,
   "metadata": {},
   "outputs": [],
   "source": [
    "import numpy as np\n",
    "from scipy.integrate import odeint, solve_ivp\n",
    "import matplotlib.pyplot as plt"
   ]
  },
  {
   "cell_type": "code",
   "execution_count": 3,
   "metadata": {},
   "outputs": [],
   "source": [
    "# The dpi (dots-per-inch) setting will affect the resolution and how large\n",
    "#  the plots appear on screen and printed.  So you may want/need to adjust \n",
    "#  the figsize when creating the figure.\n",
    "plt.rcParams['figure.dpi'] = 100.    # this is the default for notebook\n",
    "\n",
    "# Change the common font size (smaller when higher dpi)\n",
    "font_size = 10\n",
    "plt.rcParams.update({'font.size': font_size})"
   ]
  },
  {
   "cell_type": "markdown",
   "metadata": {},
   "source": [
    "## Two-Body class and utility functions"
   ]
  },
  {
   "cell_type": "code",
   "execution_count": 4,
   "metadata": {},
   "outputs": [],
   "source": [
    "class LagrangianTwoBody():\n",
    "    \"\"\"\n",
    "    Pendulum class implements the parameters and Lagrange's equations for \n",
    "     a two-body gravity problem.\n",
    "     \n",
    "    Parameters\n",
    "    ----------\n",
    "    \n",
    "    G : float\n",
    "        gravitational constant\n",
    "    m_1 : float\n",
    "        mass of the first body\n",
    "    m_2 : float\n",
    "        mass of the second body\n",
    "\n",
    "    Methods\n",
    "    -------\n",
    "    dy_dt(t, y)\n",
    "        Returns the right side of the differential equation in vector y, \n",
    "        given time t and the corresponding value of y.\n",
    "    \"\"\"\n",
    "    def __init__(self, G=1., m_1=1., m_2=2.,\n",
    "                ):\n",
    "        self.G = G\n",
    "        self.m_1 = m_1\n",
    "        self.m_2 = m_2\n",
    "    \n",
    "    def dy_dt(self, t, y):\n",
    "        \"\"\"\n",
    "        This function returns the right-hand side of the diffeq: \n",
    "        [dx_1/dt d^2x_1/dt^2 dy_1/dt d^2y_1/dt^2 dx_2/dt d^2x_2/dt^2 dy_2/dt d^2y_2/dt^2]\n",
    "        \n",
    "        Parameters\n",
    "        ----------\n",
    "        t : float\n",
    "            time \n",
    "        y : float\n",
    "            A 8-component vector with y[0] = x_1(t) and y[1] = dx_1/dt y[2] = y_1(t) and y[3] = dy_1/dt\n",
    "                                      y[4] = x_2(t) and y[5] = dx_2/dt y[6] = y_2(t) and y[7] = dy_2/dt\n",
    "            \n",
    "        Returns\n",
    "        -------\n",
    "        \n",
    "        \"\"\"\n",
    "        #Solve for that common denominator once\n",
    "        Dnm = ((y[0]-y[4])**2 + (y[2]-y[6])**2)**(3/2)\n",
    "        \n",
    "        return [y[1], (self.m_2*self.G*(y[4]-y[0]))/Dnm, y[3], (self.m_2*self.G*(y[6]-y[2]))/Dnm, y[5], \\\n",
    "               (self.m_1*self.G*(y[0]-y[4]))/Dnm, y[7], (self.m_1*self.G*(y[2]-y[6]))/Dnm]\n",
    "    \n",
    "    def solve_ode(self, t_pts, x_1_0, x_1_dot_0, y_1_0, y_1_dot_0, x_2_0, x_2_dot_0, y_2_0, y_2_dot_0,\n",
    "                  abserr=1.0e-6, relerr=1.0e-6):\n",
    "        \"\"\"\n",
    "        Solve the ODE given initial conditions.\n",
    "        Specify smaller abserr and relerr to get more precision.\n",
    "        \"\"\"\n",
    "        y = [x_1_0, x_1_dot_0, y_1_0, y_1_dot_0, x_2_0, x_2_dot_0, y_2_0, y_2_dot_0] \n",
    "        solution = solve_ivp(self.dy_dt, (t_pts[0], t_pts[-1]), \n",
    "                             y, t_eval=t_pts, \n",
    "                             atol=abserr, rtol=relerr)\n",
    "        x_1, x_1_dot, y_1, y_1_dot, x_2, x_2_dot, y_2, y_2_dot = solution.y\n",
    "\n",
    "        return x_1, x_1_dot, y_1, y_1_dot, x_2, x_2_dot, y_2, y_2_dot"
   ]
  },
  {
   "cell_type": "code",
   "execution_count": 5,
   "metadata": {},
   "outputs": [],
   "source": [
    "def plot_y_vs_x(x, y, axis_labels=None, label=None, title=None, \n",
    "                color=None, linestyle=None, semilogy=False, loglog=False,\n",
    "                ax=None):\n",
    "    \"\"\"\n",
    "    Generic plotting function: return a figure axis with a plot of y vs. x,\n",
    "    with line color and style, title, axis labels, and line label\n",
    "    \"\"\"\n",
    "    if ax is None:        # if the axis object doesn't exist, make one\n",
    "        ax = plt.gca()\n",
    "\n",
    "    if (semilogy):\n",
    "        line, = ax.semilogy(x, y, label=label, \n",
    "                            color=color, linestyle=linestyle)\n",
    "    elif (loglog):\n",
    "        line, = ax.loglog(x, y, label=label, \n",
    "                          color=color, linestyle=linestyle)\n",
    "    else:\n",
    "        line, = ax.plot(x, y, label=label, \n",
    "                    color=color, linestyle=linestyle)\n",
    "\n",
    "    if label is not None:    # if a label if passed, show the legend\n",
    "        ax.legend()\n",
    "    if title is not None:    # set a title if one if passed\n",
    "        ax.set_title(title)\n",
    "    if axis_labels is not None:  # set x-axis and y-axis labels if passed  \n",
    "        ax.set_xlabel(axis_labels[0])\n",
    "        ax.set_ylabel(axis_labels[1])\n",
    "\n",
    "    return ax, line"
   ]
  },
  {
   "cell_type": "code",
   "execution_count": 6,
   "metadata": {},
   "outputs": [],
   "source": [
    "def start_stop_indices(t_pts, plot_start, plot_stop):\n",
    "    start_index = (np.fabs(t_pts-plot_start)).argmin()  # index in t_pts array \n",
    "    stop_index = (np.fabs(t_pts-plot_stop)).argmin()  # index in t_pts array \n",
    "    return start_index, stop_index"
   ]
  },
  {
   "cell_type": "markdown",
   "metadata": {},
   "source": [
    "## Make simple orbit plots "
   ]
  },
  {
   "cell_type": "code",
   "execution_count": 7,
   "metadata": {
    "scrolled": false
   },
   "outputs": [],
   "source": [
    "# Labels for individual plot axes\n",
    "x_vs_y_labels = (r'x', r'y')\n",
    "\n",
    "# Common plotting time (generate the full time then use slices)\n",
    "t_start = 0.\n",
    "t_end = 50.\n",
    "delta_t = 0.001\n",
    "\n",
    "t_pts = np.arange(t_start, t_end+delta_t, delta_t)  \n",
    "\n",
    "G = 1.\n",
    "mass_1 = 10.\n",
    "mass_2 = 4.\n",
    "\n",
    "# Instantiate a pendulum \n",
    "o1 = LagrangianTwoBody(G=G,m_1=mass_1,m_2=mass_2)"
   ]
  },
  {
   "cell_type": "code",
   "execution_count": 8,
   "metadata": {},
   "outputs": [
    {
     "data": {
      "image/png": "[encoded data removed]",
      "text/plain": [
       "<Figure size 1500x500 with 1 Axes>"
      ]
     },
     "metadata": {
      "needs_background": "light"
     },
     "output_type": "display_data"
    }
   ],
   "source": [
    "# Set initial conditions\n",
    "x_1_0 = 1.\n",
    "x_1_dot_0 = -1.\n",
    "y_1_0 = 1.\n",
    "y_1_dot_0 = 1.\n",
    "\n",
    "x_2_0 = (-mass_1/mass_2)*x_1_0\n",
    "x_2_dot_0 = (-mass_1/mass_2)*x_1_dot_0\n",
    "y_2_0 = (-mass_1/mass_2)*y_1_0\n",
    "y_2_dot_0 = (-mass_1/mass_2)*y_1_dot_0\n",
    "\n",
    "#Solve the differential equations\n",
    "x_1, x_1_dot, y_1, y_1_dot, x_2, x_2_dot, y_2, y_2_dot = o1.solve_ode(t_pts, x_1_0, x_1_dot_0, y_1_0, y_1_dot_0, \\\n",
    "                                                                      x_2_0, x_2_dot_0, y_2_0, y_2_dot_0)\n",
    "\n",
    "# start the plot!\n",
    "fig = plt.figure(figsize=(15,5))\n",
    "overall_title = 'Simple orbit from Lagrangian:  ' + \\\n",
    "                rf'  $x 1_0 = {x_1_0:.2f},$' + \\\n",
    "                rf' $\\dot x 1_0 = {x_1_dot_0:.2f}$' + \\\n",
    "                rf'  $y 1_0 = {y_1_0:.2f},$' + \\\n",
    "                rf' $\\dot y 1_0 = {y_1_dot_0:.2f}$' + \\\n",
    "                rf'  $x 2_0 = {x_2_0:.2f},$' + \\\n",
    "                rf' $\\dot x 2_0 = {x_2_dot_0:.2f}$' + \\\n",
    "                rf'  $y 2_0 = {y_2_0:.2f},$' + \\\n",
    "                rf' $\\dot y 2_0 = {y_2_dot_0:.2f}$' + \\\n",
    "                '\\n'     # \\n means a new line (adds some space here)\n",
    "fig.suptitle(overall_title, va='baseline')\n",
    "    \n",
    "# first plot: phi plot \n",
    "ax_a = fig.add_subplot(1,1,1)                  \n",
    "\n",
    "start, stop = start_stop_indices(t_pts, t_start, t_end)    \n",
    "plot_y_vs_x(x_1[start : stop], y_1[start : stop], \n",
    "            axis_labels=x_vs_y_labels, \n",
    "            color='blue',\n",
    "            label=None, \n",
    "            title=None, \n",
    "            ax=ax_a)    \n",
    "                              \n",
    "plot_y_vs_x(x_2[start : stop], y_2[start : stop], \n",
    "            axis_labels=x_vs_y_labels, \n",
    "            color='red',\n",
    "            label=None, \n",
    "            title='Two-body Orbit', \n",
    "            ax=ax_a)\n",
    "    \n",
    "    \n",
    "fig.savefig('two_body_Lagrange.png', bbox_inches='tight')  "
   ]
  },
  {
   "cell_type": "markdown",
   "metadata": {},
   "source": [
    "Last time I checked, that is not how gravity works. I am currently debugging it"
   ]
  }
 ],
 "metadata": {
  "kernelspec": {
   "display_name": "Python 3",
   "language": "python",
   "name": "python3"
  },
  "language_info": {
   "codemirror_mode": {
    "name": "ipython",
    "version": 3
   },
   "file_extension": ".py",
   "mimetype": "text/x-python",
   "name": "python",
   "nbconvert_exporter": "python",
   "pygments_lexer": "ipython3",
   "version": "3.7.4"
  }
 },
 "nbformat": 4,
 "nbformat_minor": 2
}
